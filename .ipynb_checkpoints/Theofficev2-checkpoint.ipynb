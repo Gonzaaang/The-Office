{
 "cells": [
  {
   "cell_type": "code",
   "execution_count": 1,
   "id": "11a2350b",
   "metadata": {},
   "outputs": [],
   "source": [
    "import matplotlib as mpl\n",
    "import matplotlib.pyplot as plt\n",
    "import seaborn as sns\n",
    "import pandas as pd\n",
    "import numpy as np\n",
    "\n",
    "import stylecloud\n",
    "import stop_words"
   ]
  },
  {
   "cell_type": "code",
   "execution_count": 21,
   "id": "8568b055",
   "metadata": {},
   "outputs": [],
   "source": [
    "from stop_words import get_stop_words\n",
    "# stopwords en español\n",
    "palabras_irrelevantes = get_stop_words('english')\n"
   ]
  },
  {
   "cell_type": "code",
   "execution_count": 30,
   "id": "ccf88210",
   "metadata": {
    "scrolled": true
   },
   "outputs": [
    {
     "ename": "NotImplementedError",
     "evalue": "Gray-scale images TODO",
     "output_type": "error",
     "traceback": [
      "\u001b[1;31m---------------------------------------------------------------------------\u001b[0m",
      "\u001b[1;31mNotImplementedError\u001b[0m                       Traceback (most recent call last)",
      "Input \u001b[1;32mIn [30]\u001b[0m, in \u001b[0;36m<module>\u001b[1;34m\u001b[0m\n\u001b[0;32m     25\u001b[0m image_colors \u001b[38;5;241m=\u001b[39m ImageColorGenerator(my_mask)\n\u001b[0;32m     26\u001b[0m \u001b[38;5;66;03m# usar el color de imagen original en la nube de palabras (puedes usar colores random en el wordcloud desactivando el código de abajo)\u001b[39;00m\n\u001b[1;32m---> 27\u001b[0m \u001b[43mwc\u001b[49m\u001b[38;5;241;43m.\u001b[39;49m\u001b[43mrecolor\u001b[49m\u001b[43m(\u001b[49m\u001b[43mcolor_func\u001b[49m\u001b[38;5;241;43m=\u001b[39;49m\u001b[43mimage_colors\u001b[49m\u001b[43m)\u001b[49m\n\u001b[0;32m     30\u001b[0m \u001b[38;5;66;03m# usar el color de imagen original en la nube de palabras (puedes usar colores random en el wordcloud desactivando el código de abajo)\u001b[39;00m\n\u001b[0;32m     31\u001b[0m \n\u001b[0;32m     32\u001b[0m \n\u001b[0;32m     33\u001b[0m \u001b[38;5;66;03m# graficar la nube de palabras\u001b[39;00m\n\u001b[0;32m     34\u001b[0m plt\u001b[38;5;241m.\u001b[39mfigure(figsize\u001b[38;5;241m=\u001b[39m(\u001b[38;5;241m20\u001b[39m, \u001b[38;5;241m10\u001b[39m)) \u001b[38;5;66;03m# tamaño de figura\u001b[39;00m\n",
      "File \u001b[1;32m~\\miniconda3\\lib\\site-packages\\wordcloud\\wordcloud.py:696\u001b[0m, in \u001b[0;36mWordCloud.recolor\u001b[1;34m(self, random_state, color_func, colormap)\u001b[0m\n\u001b[0;32m    694\u001b[0m     \u001b[38;5;28;01melse\u001b[39;00m:\n\u001b[0;32m    695\u001b[0m         color_func \u001b[38;5;241m=\u001b[39m colormap_color_func(colormap)\n\u001b[1;32m--> 696\u001b[0m \u001b[38;5;28mself\u001b[39m\u001b[38;5;241m.\u001b[39mlayout_ \u001b[38;5;241m=\u001b[39m [(word_freq, font_size, position, orientation,\n\u001b[0;32m    697\u001b[0m                  color_func(word\u001b[38;5;241m=\u001b[39mword_freq[\u001b[38;5;241m0\u001b[39m], font_size\u001b[38;5;241m=\u001b[39mfont_size,\n\u001b[0;32m    698\u001b[0m                             position\u001b[38;5;241m=\u001b[39mposition, orientation\u001b[38;5;241m=\u001b[39morientation,\n\u001b[0;32m    699\u001b[0m                             random_state\u001b[38;5;241m=\u001b[39mrandom_state,\n\u001b[0;32m    700\u001b[0m                             font_path\u001b[38;5;241m=\u001b[39m\u001b[38;5;28mself\u001b[39m\u001b[38;5;241m.\u001b[39mfont_path))\n\u001b[0;32m    701\u001b[0m                 \u001b[38;5;28;01mfor\u001b[39;00m word_freq, font_size, position, orientation, _\n\u001b[0;32m    702\u001b[0m                 \u001b[38;5;129;01min\u001b[39;00m \u001b[38;5;28mself\u001b[39m\u001b[38;5;241m.\u001b[39mlayout_]\n\u001b[0;32m    703\u001b[0m \u001b[38;5;28;01mreturn\u001b[39;00m \u001b[38;5;28mself\u001b[39m\n",
      "File \u001b[1;32m~\\miniconda3\\lib\\site-packages\\wordcloud\\wordcloud.py:697\u001b[0m, in \u001b[0;36m<listcomp>\u001b[1;34m(.0)\u001b[0m\n\u001b[0;32m    694\u001b[0m     \u001b[38;5;28;01melse\u001b[39;00m:\n\u001b[0;32m    695\u001b[0m         color_func \u001b[38;5;241m=\u001b[39m colormap_color_func(colormap)\n\u001b[0;32m    696\u001b[0m \u001b[38;5;28mself\u001b[39m\u001b[38;5;241m.\u001b[39mlayout_ \u001b[38;5;241m=\u001b[39m [(word_freq, font_size, position, orientation,\n\u001b[1;32m--> 697\u001b[0m                  \u001b[43mcolor_func\u001b[49m\u001b[43m(\u001b[49m\u001b[43mword\u001b[49m\u001b[38;5;241;43m=\u001b[39;49m\u001b[43mword_freq\u001b[49m\u001b[43m[\u001b[49m\u001b[38;5;241;43m0\u001b[39;49m\u001b[43m]\u001b[49m\u001b[43m,\u001b[49m\u001b[43m \u001b[49m\u001b[43mfont_size\u001b[49m\u001b[38;5;241;43m=\u001b[39;49m\u001b[43mfont_size\u001b[49m\u001b[43m,\u001b[49m\n\u001b[0;32m    698\u001b[0m \u001b[43m                            \u001b[49m\u001b[43mposition\u001b[49m\u001b[38;5;241;43m=\u001b[39;49m\u001b[43mposition\u001b[49m\u001b[43m,\u001b[49m\u001b[43m \u001b[49m\u001b[43morientation\u001b[49m\u001b[38;5;241;43m=\u001b[39;49m\u001b[43morientation\u001b[49m\u001b[43m,\u001b[49m\n\u001b[0;32m    699\u001b[0m \u001b[43m                            \u001b[49m\u001b[43mrandom_state\u001b[49m\u001b[38;5;241;43m=\u001b[39;49m\u001b[43mrandom_state\u001b[49m\u001b[43m,\u001b[49m\n\u001b[0;32m    700\u001b[0m \u001b[43m                            \u001b[49m\u001b[43mfont_path\u001b[49m\u001b[38;5;241;43m=\u001b[39;49m\u001b[38;5;28;43mself\u001b[39;49m\u001b[38;5;241;43m.\u001b[39;49m\u001b[43mfont_path\u001b[49m\u001b[43m)\u001b[49m)\n\u001b[0;32m    701\u001b[0m                 \u001b[38;5;28;01mfor\u001b[39;00m word_freq, font_size, position, orientation, _\n\u001b[0;32m    702\u001b[0m                 \u001b[38;5;129;01min\u001b[39;00m \u001b[38;5;28mself\u001b[39m\u001b[38;5;241m.\u001b[39mlayout_]\n\u001b[0;32m    703\u001b[0m \u001b[38;5;28;01mreturn\u001b[39;00m \u001b[38;5;28mself\u001b[39m\n",
      "File \u001b[1;32m~\\miniconda3\\lib\\site-packages\\wordcloud\\color_from_image.py:50\u001b[0m, in \u001b[0;36mImageColorGenerator.__call__\u001b[1;34m(self, word, font_size, font_path, position, orientation, **kwargs)\u001b[0m\n\u001b[0;32m     48\u001b[0m     patch \u001b[38;5;241m=\u001b[39m patch[:, :, :\u001b[38;5;241m3\u001b[39m]\n\u001b[0;32m     49\u001b[0m \u001b[38;5;28;01mif\u001b[39;00m patch\u001b[38;5;241m.\u001b[39mndim \u001b[38;5;241m==\u001b[39m \u001b[38;5;241m2\u001b[39m:\n\u001b[1;32m---> 50\u001b[0m     \u001b[38;5;28;01mraise\u001b[39;00m \u001b[38;5;167;01mNotImplementedError\u001b[39;00m(\u001b[38;5;124m\"\u001b[39m\u001b[38;5;124mGray-scale images TODO\u001b[39m\u001b[38;5;124m\"\u001b[39m)\n\u001b[0;32m     51\u001b[0m \u001b[38;5;66;03m# check if the text is within the bounds of the image\u001b[39;00m\n\u001b[0;32m     52\u001b[0m reshape \u001b[38;5;241m=\u001b[39m patch\u001b[38;5;241m.\u001b[39mreshape(\u001b[38;5;241m-\u001b[39m\u001b[38;5;241m1\u001b[39m, \u001b[38;5;241m3\u001b[39m)\n",
      "\u001b[1;31mNotImplementedError\u001b[0m: Gray-scale images TODO"
     ]
    }
   ],
   "source": [
    "from wordcloud import WordCloud, ImageColorGenerator # crea el wordcloud\n",
    "from PIL import Image # carga la imagen\n",
    "import matplotlib.pyplot as plt # grafica imagenes\n",
    "import numpy as np # obtener la forma de la imagen\n",
    "\n",
    "# graficar nube de palabras con libreria wordcloud\n",
    "my_mask = np.array(Image.open(r'C:\\Users\\gonza\\Desktop\\Gonza\\Proyectos\\The Office\\logo12.png')) # obtiene forma del wordcloud\n",
    "\n",
    "wc = WordCloud(background_color='white',\n",
    "               mask=my_mask,\n",
    "               collocations=False,\n",
    "               width=600,\n",
    "               height=300,\n",
    "               contour_width=3, # especifica el ancho del contorno\n",
    "               contour_color='black', # especifica el color del contorno\n",
    "               stopwords=palabras_irrelevantes) # agregar stopwords\n",
    "\n",
    "# leer el archivo txt\n",
    "with open(r'C:\\Users\\gonza\\Desktop\\Gonza\\Proyectos\\The Office\\dialogos.txt', 'r') as txt_file:\n",
    "    texto = txt_file.read()\n",
    "# generar nube de palabras\n",
    "wc.generate(texto.upper())\n",
    "\n",
    "# extraer colores de la imagen .png usada\n",
    "image_colors = ImageColorGenerator(my_mask)\n",
    "# usar el color de imagen original en la nube de palabras (puedes usar colores random en el wordcloud desactivando el código de abajo)\n",
    "wc.recolor(color_func=image_colors)\n",
    "\n",
    "\n",
    "# usar el color de imagen original en la nube de palabras (puedes usar colores random en el wordcloud desactivando el código de abajo)\n",
    "\n",
    "\n",
    "# graficar la nube de palabras\n",
    "plt.figure(figsize=(20, 10)) # tamaño de figura\n",
    "plt.imshow(wc, interpolation='bilinear')\n",
    "plt.axis('off') # quitar ejes\n",
    "wc.to_file('wordcloud.png') # guardar wordcloud\n",
    "plt.show()"
   ]
  },
  {
   "cell_type": "code",
   "execution_count": null,
   "id": "5a6c5076",
   "metadata": {},
   "outputs": [],
   "source": []
  }
 ],
 "metadata": {
  "kernelspec": {
   "display_name": "Python 3 (ipykernel)",
   "language": "python",
   "name": "python3"
  },
  "language_info": {
   "codemirror_mode": {
    "name": "ipython",
    "version": 3
   },
   "file_extension": ".py",
   "mimetype": "text/x-python",
   "name": "python",
   "nbconvert_exporter": "python",
   "pygments_lexer": "ipython3",
   "version": "3.9.5"
  }
 },
 "nbformat": 4,
 "nbformat_minor": 5
}
